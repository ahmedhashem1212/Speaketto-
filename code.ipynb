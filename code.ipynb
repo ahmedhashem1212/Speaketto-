{
 "cells": [
  {
   "cell_type": "code",
   "execution_count": 1,
   "metadata": {},
   "outputs": [],
   "source": [
    "import pandas as pd \n",
    "import numpy as np\n",
    "from datetime import datetime\n",
    "from datetime import date\n",
    "from datetime import timezone"
   ]
  },
  {
   "cell_type": "code",
   "execution_count": 2,
   "metadata": {},
   "outputs": [],
   "source": [
    "data = pd.read_csv(\"C:\\\\Users\\\\DELL\\\\Downloads\\\\Ruthenium_Prices.csv\")"
   ]
  },
  {
   "cell_type": "code",
   "execution_count": 3,
   "metadata": {},
   "outputs": [],
   "source": [
    "dates = np.zeros(data.size)\n",
    "prices = np.zeros(data.size)"
   ]
  },
  {
   "cell_type": "code",
   "execution_count": 7,
   "metadata": {},
   "outputs": [],
   "source": [
    "for n in range(data.size):\n",
    "    s = str(data[\"Date;Price in $\"][n])\n",
    "    x = s.split(\";\")\n",
    "    prices[n]=x[1]\n",
    "    date_object = datetime.strptime(x[0], '%Y-%m-%d').date()\n",
    "    timestamp = (date_object - date(1992, 7, 31)).total_seconds()\n",
    "    dates[n]=timestamp"
   ]
  },
  {
   "cell_type": "code",
   "execution_count": 8,
   "metadata": {},
   "outputs": [
    {
     "name": "stdout",
     "output_type": "stream",
     "text": [
      "done\n"
     ]
    }
   ],
   "source": [
    "from sklearn.model_selection import train_test_split\n",
    "from sklearn.ensemble import RandomForestClassifier\n",
    "rfc=RandomForestClassifier()\n",
    "\n",
    "X_train, X_test, y_train, y_test = train_test_split(dates, prices, test_size=0.3, random_state=5)\n",
    "#clf = svm.SVC(kernel='linear',C=0.001,gamma=0.1,probability=True)\n",
    "rfc.fit(X_train.reshape(-1, 1),y_train)\n",
    "print(\"done\")"
   ]
  },
  {
   "cell_type": "code",
   "execution_count": 45,
   "metadata": {},
   "outputs": [
    {
     "name": "stdout",
     "output_type": "stream",
     "text": [
      "Accuracy for DecisionTree Classifier on test set: 42.57425742574257%\n"
     ]
    }
   ],
   "source": [
    "print('Accuracy for DecisionTree Classifier on test set: {}%'.format((rfc.score(X_test.reshape(-1, 1), y_test)*100)))\n"
   ]
  },
  {
   "cell_type": "code",
   "execution_count": null,
   "metadata": {},
   "outputs": [],
   "source": [
    "userInput = eval(input(\"enter a date in format Y-M-D\"))\n",
    "date_object = datetime.strptime(userInput, '%Y-%m-%d').date()\n",
    "timestamp = (date_object - date(1992, 7, 31)).total_seconds()\n",
    "result = rfc.predict([[timestamp]])\n",
    "print(timestamp)\n",
    "print(\"the expected price is \" ,result[0],\"$\")"
   ]
  }
 ],
 "metadata": {
  "kernelspec": {
   "display_name": "Python 3",
   "language": "python",
   "name": "python3"
  },
  "language_info": {
   "codemirror_mode": {
    "name": "ipython",
    "version": 3
   },
   "file_extension": ".py",
   "mimetype": "text/x-python",
   "name": "python",
   "nbconvert_exporter": "python",
   "pygments_lexer": "ipython3",
   "version": "3.8.1"
  }
 },
 "nbformat": 4,
 "nbformat_minor": 4
}
